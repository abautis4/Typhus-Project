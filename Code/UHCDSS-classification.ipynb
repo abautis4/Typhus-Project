{
 "cells": [
  {
   "cell_type": "markdown",
   "metadata": {},
   "source": [
    "#                     University of Houston - Computational Biomedicine Lab (CBL)\n",
    "Research in the Computational Biomedicine Laboratory is motivated by fundamental open problems in the broad area of biomedical image analysis, computer vision, bioinformatics, and pattern recognition, with an emphasis on applications that address some of society’s greatest challenges. The overall theme is to develop a comprehensive framework that will lead to improved algorithms for analyzing multidimensional data in search of meaningful information. The ultimate goal is to allow computers to aid humans in taking full advantage of the multitude of data sources available through today’s technology to extract relevant information in an unobtrusive, reliable, accurate, and timely manner.\n",
    "\n",
    "##  LSTM with Soft Attention Model / Training and Importance values"
   ]
  },
  {
   "cell_type": "markdown",
   "metadata": {},
   "source": [
    "This notebook was designed to provide the necessary and sufficiently generalized code so that any user who owns it can make use of the LSTM neural network with an attention module for its replication and implementation in any problem that meets the characteristics of being a binary classification problem that possesses contextual information in the data and that requires obtaining relevance values concerning the classification made by the neural network."
   ]
  },
  {
   "cell_type": "markdown",
   "metadata": {},
   "source": [
    "# Authors\n",
    "\n",
    "These notebooks are produced by Abraham Bautista-Castillo (https://uh.edu/cbl/people/abraham-castillo.php) and Ioannis A. Kakadiaris (https://uh.edu/cbl/people/about-director.php).\n",
    "\n",
    "## License and copyright\n",
    "\n",
    "All material belongs to the University of Houston (https://www.uh.edu/).\n",
    "\n",
    "All computer code is released under the University of Houston license.\n",
    "\n",
    "Permission is at this moment granted, free of charge, till 8/31/2023 to the Methodist Hospital Personnel working towards the Pilot AIM-AHEAD to use the Software without limitation the rights to use, copy, modify, and merge the Software.\n",
    "\n",
    "After 8/31/2023 all code derived from this code must be deleted and email send to Prof. Kakadiaris (ioannisk@uh.edu)\n",
    "\n",
    "The above copyright and permission notice shall be included in all copies or derivatives of the Software.\n",
    " \n",
    "Using this code should reference the publication associated with this work. Reference is available upon request to Prof. Kakadiaris\n",
    "\n",
    "Any distribution of this Software and associated documentation files must be previously discussed with Prof. Kakadiaris and receive express written authorization.\n",
    "\n",
    "THE SOFTWARE IS PROVIDED \"AS IS\" WITHOUT WARRANTY OF ANY KIND, EXPRESS OR IMPLIED, INCLUDING BUT NOT LIMITED TO THE WARRANTIES OF MERCHANTABILITY, FITNESS FOR A PARTICULAR PURPOSE, AND NONINFRINGEMENT. IN NO EVENT SHALL THE AUTHORS OR COPYRIGHT HOLDERS BE LIABLE FOR ANY CLAIM, DAMAGES, OR OTHER LIABILITY, WHETHER IN AN ACTION OF CONTRACT, TORT, OR OTHERWISE, ARISING FROM, OUT OF, OR IN CONNECTION WITH THE SOFTWARE OR THE USE OR OTHER DEALINGS IN THE SOFTWARE."
   ]
  },
  {
   "cell_type": "markdown",
   "metadata": {},
   "source": [
    "## Installation for Compatibility"
   ]
  },
  {
   "cell_type": "markdown",
   "metadata": {},
   "source": [
    "All necessary packages for code compatibility are automatically installed by running the following line of code."
   ]
  },
  {
   "cell_type": "code",
   "execution_count": 1,
   "metadata": {},
   "outputs": [
    {
     "name": "stdout",
     "output_type": "stream",
     "text": [
      "Requirement already satisfied: tensorflow==2.2.0 in /home/abraham/miniconda3/envs/tensorflow-gpu/lib/python3.8/site-packages (from -r requirements.txt (line 1)) (2.2.0)\n",
      "Requirement already satisfied: pandas==1.1.2 in /home/abraham/miniconda3/envs/tensorflow-gpu/lib/python3.8/site-packages (from -r requirements.txt (line 2)) (1.1.2)\n",
      "Requirement already satisfied: numpy==1.19.1 in /home/abraham/miniconda3/envs/tensorflow-gpu/lib/python3.8/site-packages (from -r requirements.txt (line 3)) (1.19.1)\n",
      "Requirement already satisfied: scikit-learn==0.23.2 in /home/abraham/miniconda3/envs/tensorflow-gpu/lib/python3.8/site-packages (from -r requirements.txt (line 4)) (0.23.2)\n",
      "Requirement already satisfied: tk==0.1.0 in /home/abraham/miniconda3/envs/tensorflow-gpu/lib/python3.8/site-packages (from -r requirements.txt (line 5)) (0.1.0)\n",
      "Requirement already satisfied: scipy==1.4.1; python_version >= \"3\" in /home/abraham/miniconda3/envs/tensorflow-gpu/lib/python3.8/site-packages (from tensorflow==2.2.0->-r requirements.txt (line 1)) (1.4.1)\n",
      "Requirement already satisfied: keras-preprocessing>=1.1.0 in /home/abraham/miniconda3/envs/tensorflow-gpu/lib/python3.8/site-packages (from tensorflow==2.2.0->-r requirements.txt (line 1)) (1.1.0)\n",
      "Requirement already satisfied: tensorflow-estimator<2.3.0,>=2.2.0 in /home/abraham/miniconda3/envs/tensorflow-gpu/lib/python3.8/site-packages (from tensorflow==2.2.0->-r requirements.txt (line 1)) (2.2.0)\n",
      "Requirement already satisfied: grpcio>=1.8.6 in /home/abraham/miniconda3/envs/tensorflow-gpu/lib/python3.8/site-packages (from tensorflow==2.2.0->-r requirements.txt (line 1)) (1.31.0)\n",
      "Requirement already satisfied: astunparse==1.6.3 in /home/abraham/miniconda3/envs/tensorflow-gpu/lib/python3.8/site-packages (from tensorflow==2.2.0->-r requirements.txt (line 1)) (1.6.3)\n",
      "Requirement already satisfied: absl-py>=0.7.0 in /home/abraham/miniconda3/envs/tensorflow-gpu/lib/python3.8/site-packages (from tensorflow==2.2.0->-r requirements.txt (line 1)) (0.10.0)\n",
      "Requirement already satisfied: h5py<2.11.0,>=2.10.0 in /home/abraham/miniconda3/envs/tensorflow-gpu/lib/python3.8/site-packages (from tensorflow==2.2.0->-r requirements.txt (line 1)) (2.10.0)\n",
      "Requirement already satisfied: termcolor>=1.1.0 in /home/abraham/miniconda3/envs/tensorflow-gpu/lib/python3.8/site-packages (from tensorflow==2.2.0->-r requirements.txt (line 1)) (1.1.0)\n",
      "Requirement already satisfied: gast==0.3.3 in /home/abraham/miniconda3/envs/tensorflow-gpu/lib/python3.8/site-packages (from tensorflow==2.2.0->-r requirements.txt (line 1)) (0.3.3)\n",
      "Requirement already satisfied: wrapt>=1.11.1 in /home/abraham/miniconda3/envs/tensorflow-gpu/lib/python3.8/site-packages (from tensorflow==2.2.0->-r requirements.txt (line 1)) (1.11.2)\n",
      "Requirement already satisfied: opt-einsum>=2.3.2 in /home/abraham/miniconda3/envs/tensorflow-gpu/lib/python3.8/site-packages (from tensorflow==2.2.0->-r requirements.txt (line 1)) (3.1.0)\n",
      "Requirement already satisfied: tensorboard<2.3.0,>=2.2.0 in /home/abraham/miniconda3/envs/tensorflow-gpu/lib/python3.8/site-packages (from tensorflow==2.2.0->-r requirements.txt (line 1)) (2.2.1)\n",
      "Requirement already satisfied: google-pasta>=0.1.8 in /home/abraham/miniconda3/envs/tensorflow-gpu/lib/python3.8/site-packages (from tensorflow==2.2.0->-r requirements.txt (line 1)) (0.2.0)\n",
      "Requirement already satisfied: wheel>=0.26; python_version >= \"3\" in /home/abraham/miniconda3/envs/tensorflow-gpu/lib/python3.8/site-packages (from tensorflow==2.2.0->-r requirements.txt (line 1)) (0.35.1)\n",
      "Requirement already satisfied: six>=1.12.0 in /home/abraham/miniconda3/envs/tensorflow-gpu/lib/python3.8/site-packages (from tensorflow==2.2.0->-r requirements.txt (line 1)) (1.15.0)\n",
      "Requirement already satisfied: protobuf>=3.8.0 in /home/abraham/miniconda3/envs/tensorflow-gpu/lib/python3.8/site-packages (from tensorflow==2.2.0->-r requirements.txt (line 1)) (3.12.4)\n",
      "Requirement already satisfied: python-dateutil>=2.7.3 in /home/abraham/miniconda3/envs/tensorflow-gpu/lib/python3.8/site-packages (from pandas==1.1.2->-r requirements.txt (line 2)) (2.8.1)\n",
      "Requirement already satisfied: pytz>=2017.2 in /home/abraham/miniconda3/envs/tensorflow-gpu/lib/python3.8/site-packages (from pandas==1.1.2->-r requirements.txt (line 2)) (2020.1)\n",
      "Requirement already satisfied: threadpoolctl>=2.0.0 in /home/abraham/miniconda3/envs/tensorflow-gpu/lib/python3.8/site-packages (from scikit-learn==0.23.2->-r requirements.txt (line 4)) (2.1.0)\n",
      "Requirement already satisfied: joblib>=0.11 in /home/abraham/miniconda3/envs/tensorflow-gpu/lib/python3.8/site-packages (from scikit-learn==0.23.2->-r requirements.txt (line 4)) (0.17.0)\n",
      "Requirement already satisfied: setuptools>=41.0.0 in /home/abraham/miniconda3/envs/tensorflow-gpu/lib/python3.8/site-packages (from tensorboard<2.3.0,>=2.2.0->tensorflow==2.2.0->-r requirements.txt (line 1)) (49.6.0.post20200925)\n",
      "Requirement already satisfied: google-auth<2,>=1.6.3 in /home/abraham/miniconda3/envs/tensorflow-gpu/lib/python3.8/site-packages (from tensorboard<2.3.0,>=2.2.0->tensorflow==2.2.0->-r requirements.txt (line 1)) (1.22.0)\n",
      "Requirement already satisfied: markdown>=2.6.8 in /home/abraham/miniconda3/envs/tensorflow-gpu/lib/python3.8/site-packages (from tensorboard<2.3.0,>=2.2.0->tensorflow==2.2.0->-r requirements.txt (line 1)) (3.2.2)\n",
      "Requirement already satisfied: requests<3,>=2.21.0 in /home/abraham/miniconda3/envs/tensorflow-gpu/lib/python3.8/site-packages (from tensorboard<2.3.0,>=2.2.0->tensorflow==2.2.0->-r requirements.txt (line 1)) (2.24.0)\n",
      "Requirement already satisfied: google-auth-oauthlib<0.5,>=0.4.1 in /home/abraham/miniconda3/envs/tensorflow-gpu/lib/python3.8/site-packages (from tensorboard<2.3.0,>=2.2.0->tensorflow==2.2.0->-r requirements.txt (line 1)) (0.4.1)\n",
      "Requirement already satisfied: werkzeug>=0.11.15 in /home/abraham/miniconda3/envs/tensorflow-gpu/lib/python3.8/site-packages (from tensorboard<2.3.0,>=2.2.0->tensorflow==2.2.0->-r requirements.txt (line 1)) (1.0.1)\n",
      "Requirement already satisfied: tensorboard-plugin-wit>=1.6.0 in /home/abraham/miniconda3/envs/tensorflow-gpu/lib/python3.8/site-packages (from tensorboard<2.3.0,>=2.2.0->tensorflow==2.2.0->-r requirements.txt (line 1)) (1.6.0)\n",
      "Requirement already satisfied: pyasn1-modules>=0.2.1 in /home/abraham/miniconda3/envs/tensorflow-gpu/lib/python3.8/site-packages (from google-auth<2,>=1.6.3->tensorboard<2.3.0,>=2.2.0->tensorflow==2.2.0->-r requirements.txt (line 1)) (0.2.8)\n",
      "Requirement already satisfied: aiohttp<4.0.0dev,>=3.6.2; python_version >= \"3.6\" in /home/abraham/miniconda3/envs/tensorflow-gpu/lib/python3.8/site-packages (from google-auth<2,>=1.6.3->tensorboard<2.3.0,>=2.2.0->tensorflow==2.2.0->-r requirements.txt (line 1)) (3.6.2)\n",
      "Requirement already satisfied: rsa<5,>=3.1.4; python_version >= \"3.5\" in /home/abraham/miniconda3/envs/tensorflow-gpu/lib/python3.8/site-packages (from google-auth<2,>=1.6.3->tensorboard<2.3.0,>=2.2.0->tensorflow==2.2.0->-r requirements.txt (line 1)) (4.6)\n",
      "Requirement already satisfied: cachetools<5.0,>=2.0.0 in /home/abraham/miniconda3/envs/tensorflow-gpu/lib/python3.8/site-packages (from google-auth<2,>=1.6.3->tensorboard<2.3.0,>=2.2.0->tensorflow==2.2.0->-r requirements.txt (line 1)) (4.1.1)\n",
      "Requirement already satisfied: urllib3!=1.25.0,!=1.25.1,<1.26,>=1.21.1 in /home/abraham/miniconda3/envs/tensorflow-gpu/lib/python3.8/site-packages (from requests<3,>=2.21.0->tensorboard<2.3.0,>=2.2.0->tensorflow==2.2.0->-r requirements.txt (line 1)) (1.25.10)\n",
      "Requirement already satisfied: idna<3,>=2.5 in /home/abraham/miniconda3/envs/tensorflow-gpu/lib/python3.8/site-packages (from requests<3,>=2.21.0->tensorboard<2.3.0,>=2.2.0->tensorflow==2.2.0->-r requirements.txt (line 1)) (2.10)\n",
      "Requirement already satisfied: chardet<4,>=3.0.2 in /home/abraham/miniconda3/envs/tensorflow-gpu/lib/python3.8/site-packages (from requests<3,>=2.21.0->tensorboard<2.3.0,>=2.2.0->tensorflow==2.2.0->-r requirements.txt (line 1)) (3.0.4)\n",
      "Requirement already satisfied: certifi>=2017.4.17 in /home/abraham/miniconda3/envs/tensorflow-gpu/lib/python3.8/site-packages (from requests<3,>=2.21.0->tensorboard<2.3.0,>=2.2.0->tensorflow==2.2.0->-r requirements.txt (line 1)) (2021.10.8)\n",
      "Requirement already satisfied: requests-oauthlib>=0.7.0 in /home/abraham/miniconda3/envs/tensorflow-gpu/lib/python3.8/site-packages (from google-auth-oauthlib<0.5,>=0.4.1->tensorboard<2.3.0,>=2.2.0->tensorflow==2.2.0->-r requirements.txt (line 1)) (1.3.0)\n",
      "Requirement already satisfied: pyasn1<0.5.0,>=0.4.6 in /home/abraham/miniconda3/envs/tensorflow-gpu/lib/python3.8/site-packages (from pyasn1-modules>=0.2.1->google-auth<2,>=1.6.3->tensorboard<2.3.0,>=2.2.0->tensorflow==2.2.0->-r requirements.txt (line 1)) (0.4.8)\n",
      "Requirement already satisfied: multidict<5.0,>=4.5 in /home/abraham/miniconda3/envs/tensorflow-gpu/lib/python3.8/site-packages (from aiohttp<4.0.0dev,>=3.6.2; python_version >= \"3.6\"->google-auth<2,>=1.6.3->tensorboard<2.3.0,>=2.2.0->tensorflow==2.2.0->-r requirements.txt (line 1)) (4.7.6)\n",
      "Requirement already satisfied: attrs>=17.3.0 in /home/abraham/miniconda3/envs/tensorflow-gpu/lib/python3.8/site-packages (from aiohttp<4.0.0dev,>=3.6.2; python_version >= \"3.6\"->google-auth<2,>=1.6.3->tensorboard<2.3.0,>=2.2.0->tensorflow==2.2.0->-r requirements.txt (line 1)) (20.2.0)\n"
     ]
    },
    {
     "name": "stdout",
     "output_type": "stream",
     "text": [
      "Requirement already satisfied: async-timeout<4.0,>=3.0 in /home/abraham/miniconda3/envs/tensorflow-gpu/lib/python3.8/site-packages (from aiohttp<4.0.0dev,>=3.6.2; python_version >= \"3.6\"->google-auth<2,>=1.6.3->tensorboard<2.3.0,>=2.2.0->tensorflow==2.2.0->-r requirements.txt (line 1)) (3.0.1)\n",
      "Requirement already satisfied: yarl<2.0,>=1.0 in /home/abraham/miniconda3/envs/tensorflow-gpu/lib/python3.8/site-packages (from aiohttp<4.0.0dev,>=3.6.2; python_version >= \"3.6\"->google-auth<2,>=1.6.3->tensorboard<2.3.0,>=2.2.0->tensorflow==2.2.0->-r requirements.txt (line 1)) (1.5.1)\n",
      "Requirement already satisfied: oauthlib>=3.0.0 in /home/abraham/miniconda3/envs/tensorflow-gpu/lib/python3.8/site-packages (from requests-oauthlib>=0.7.0->google-auth-oauthlib<0.5,>=0.4.1->tensorboard<2.3.0,>=2.2.0->tensorflow==2.2.0->-r requirements.txt (line 1)) (3.1.0)\n",
      "Note: you may need to restart the kernel to use updated packages.\n"
     ]
    }
   ],
   "source": [
    "pip install -r requirements.txt"
   ]
  },
  {
   "cell_type": "markdown",
   "metadata": {},
   "source": [
    "## Environment Setup\n",
    "The file with the variables that set the environment for the code is found in the environment_classification.txt file. You can make the necessary changes to test a new dataset in that file. This is just an example of how this file looks like. This file must be in the same folder as the Jupyter Notebook, functions.py and ai-met-classification.py file."
   ]
  },
  {
   "cell_type": "code",
   "execution_count": 1,
   "metadata": {},
   "outputs": [],
   "source": [
    "filename = 'processed_dataset.csv'\n",
    "datafolder = 'Data'\n",
    "label = 'Label'\n",
    "models_folder = 'Models'\n",
    "model = 'UH-LSTM-model-A.keras'"
   ]
  },
  {
   "cell_type": "markdown",
   "metadata": {},
   "source": [
    "## Code for Testing Our Model"
   ]
  },
  {
   "cell_type": "code",
   "execution_count": 1,
   "metadata": {},
   "outputs": [
    {
     "name": "stdout",
     "output_type": "stream",
     "text": [
      "WARNING:tensorflow:Layer LSTM will not use cuDNN kernel since it doesn't meet the cuDNN kernel criteria. It will use generic GPU kernel as fallback when running on GPU\n",
      "Model .... created !\n",
      "Model .... loaded !\n",
      "Prediction .... DONE ! \n",
      "\n",
      "Confusion Matrix: \n",
      "[[130   3]\n",
      " [  0  87]]\n",
      "\n",
      " Accuracy: 0.9863636363636363\n"
     ]
    }
   ],
   "source": [
    "run UHCDSS-classification.py"
   ]
  },
  {
   "cell_type": "code",
   "execution_count": 55,
   "metadata": {},
   "outputs": [],
   "source": []
  }
 ],
 "metadata": {
  "kernelspec": {
   "display_name": "Python 3",
   "language": "python",
   "name": "python3"
  },
  "language_info": {
   "codemirror_mode": {
    "name": "ipython",
    "version": 3
   },
   "file_extension": ".py",
   "mimetype": "text/x-python",
   "name": "python",
   "nbconvert_exporter": "python",
   "pygments_lexer": "ipython3",
   "version": "3.8.2"
  }
 },
 "nbformat": 4,
 "nbformat_minor": 4
}
